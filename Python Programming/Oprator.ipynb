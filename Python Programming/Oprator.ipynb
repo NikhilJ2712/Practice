{
 "cells": [
  {
   "cell_type": "markdown",
   "id": "dbaadd51",
   "metadata": {},
   "source": [
    "### Concept Of Operators in Python Programming"
   ]
  },
  {
   "cell_type": "code",
   "execution_count": 4,
   "id": "3e13fc8d",
   "metadata": {},
   "outputs": [
    {
     "name": "stdout",
     "output_type": "stream",
     "text": [
      "105\n",
      "95\n",
      "20.0\n",
      "500\n"
     ]
    }
   ],
   "source": [
    "a = 100\n",
    "b = 5\n",
    "Summation = a+b\n",
    "Substraction = a-b\n",
    "Division = a/b\n",
    "Procduct = a * b\n",
    "print(Summation)\n",
    "print(Substraction)\n",
    "print(Division)\n",
    "print(Procduct)"
   ]
  },
  {
   "cell_type": "code",
   "execution_count": null,
   "id": "88fe38cf",
   "metadata": {},
   "outputs": [],
   "source": []
  }
 ],
 "metadata": {
  "kernelspec": {
   "display_name": "base",
   "language": "python",
   "name": "python3"
  },
  "language_info": {
   "codemirror_mode": {
    "name": "ipython",
    "version": 3
   },
   "file_extension": ".py",
   "mimetype": "text/x-python",
   "name": "python",
   "nbconvert_exporter": "python",
   "pygments_lexer": "ipython3",
   "version": "3.12.7"
  }
 },
 "nbformat": 4,
 "nbformat_minor": 5
}
